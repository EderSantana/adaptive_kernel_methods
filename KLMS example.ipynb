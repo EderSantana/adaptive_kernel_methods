{
 "metadata": {
  "name": "KLMS example"
 },
 "nbformat": 3,
 "nbformat_minor": 0,
 "worksheets": [
  {
   "cells": [
    {
     "cell_type": "raw",
     "metadata": {},
     "source": [
      "Frequency doubling with KLMS algorithm\n",
      "- Notes\n",
      "    * Faster than Matlab\n",
      "    * Novelty criterion provides slower results for this data size. The problem is unecessary calculations in the\n",
      "      acceptance of new center step at _appendCenter method"
     ]
    },
    {
     "cell_type": "code",
     "collapsed": false,
     "input": [
      "import numpy as np\n",
      "import scipy as sp\n",
      "import pylab as pl\n",
      "from kernel_lms import KernelLMS\n",
      "\n",
      "t = np.arange(0,1500,.5)\n",
      "f = .09\n",
      "N = t.shape[0]-1\n",
      "x1 = np.sin( 2*np.pi*f*t[0:-1] )\n",
      "x2 = np.sin( 2*np.pi*f*t[1:] )\n",
      "X = np.vstack( [x1, x2] ).T\n",
      "d = np.sin( 4*np.pi*f*t[1:] )\n",
      "n1 = .01*np.random.randn(floor(.9*N))\n",
      "n2 = .01*np.random.randn(ceil(.1*N))+2\n",
      "n = np.random.permutation(np.hstack([n1,n2]))\n",
      "dhat = d + n\n",
      "\n",
      "klms  = []\n",
      "klms = KernelLMS(learning_rate=.9, gamma=.01, growing_criterion=\"dense\", \n",
      "                 growing_param=[0,0], loss_function=\"minimum_correntropy\",\n",
      "                 correntropy_sigma=1)\n",
      "klms.fit_transform(X,dhat)"
     ],
     "language": "python",
     "metadata": {},
     "outputs": [
      {
       "output_type": "pyout",
       "prompt_number": 1,
       "text": [
        "array([ 0.20011026,  0.42199596,  0.60365357, ..., -0.69447231,\n",
        "       -0.51009346, -0.28710348])"
       ]
      }
     ],
     "prompt_number": 1
    },
    {
     "cell_type": "code",
     "collapsed": false,
     "input": [
      "pl.plot(t[1:],d)\n",
      "pl.plot(t[1:],klms.X_transformed_,\"--r\")\n",
      "pl.plot(t[1:],dhat,\"--k\")\n",
      "xlim([1450, 1500])"
     ],
     "language": "python",
     "metadata": {},
     "outputs": [
      {
       "output_type": "pyout",
       "prompt_number": 2,
       "text": [
        "(1450, 1500)"
       ]
      },
      {
       "output_type": "display_data",
       "png": "[encoded data removed]"
      }
     ],
     "prompt_number": 2
    },
    {
     "cell_type": "code",
     "collapsed": false,
     "input": [
      "klms.coeff_.shape"
     ],
     "language": "python",
     "metadata": {},
     "outputs": [
      {
       "output_type": "pyout",
       "prompt_number": 3,
       "text": [
        "(2999,)"
       ]
      }
     ],
     "prompt_number": 3
    },
    {
     "cell_type": "code",
     "collapsed": false,
     "input": [
      "klms.centers_.shape"
     ],
     "language": "python",
     "metadata": {},
     "outputs": [
      {
       "output_type": "pyout",
       "prompt_number": 4,
       "text": [
        "(2999, 2)"
       ]
      }
     ],
     "prompt_number": 4
    },
    {
     "cell_type": "code",
     "collapsed": false,
     "input": [],
     "language": "python",
     "metadata": {},
     "outputs": []
    }
   ],
   "metadata": {}
  }
 ]
}